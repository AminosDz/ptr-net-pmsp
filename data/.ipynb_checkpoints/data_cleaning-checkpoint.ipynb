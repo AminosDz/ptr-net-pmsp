{
 "cells": [
  {
   "cell_type": "code",
   "execution_count": 1,
   "metadata": {
    "ExecuteTime": {
     "end_time": "2019-11-11T13:27:51.028436Z",
     "start_time": "2019-11-11T13:27:51.009760Z"
    }
   },
   "outputs": [],
   "source": [
    "import numpy as np\n",
    "\n",
    "def get_data(path):\n",
    "    data = open(path,\"r\")\n",
    "\n",
    "    content = data.readlines()\n",
    "    print(len(content))\n",
    "    X = np.zeros((1038,200,60))\n",
    "    Y = np.full((1038,200),201)\n",
    "\n",
    "    i = 0\n",
    "    for line in content:\n",
    "        #Seperate Input and Output\n",
    "        instance = line.split(\"output\")\n",
    "\n",
    "        #Input\n",
    "        tasks = instance[0].split(\"<ENDT>\")\n",
    "        j = 0\n",
    "        for task in tasks[:-1]:\n",
    "            task_feat = task.split(\"<ENDP>\")\n",
    "            process_array = np.fromstring(task_feat[0],sep=\",\")\n",
    "            setup_array = np.fromstring(task_feat[1],sep=\",\")\n",
    "            task_array = np.zeros((60,))\n",
    "            task_array[:process_array.shape[0]] = process_array\n",
    "            task_array[30:30+setup_array.shape[0]] = setup_array\n",
    "            X[i,j] = task_array\n",
    "            j += 1\n",
    "        #Output\n",
    "        machines = instance[1].split(\"<ENDM>\")\n",
    "        j = 0\n",
    "        for s in machines:\n",
    "            solution_array = np.fromstring(s,sep=\",\")\n",
    "            if (j == 0):\n",
    "                solution_i = solution_array[:-1]\n",
    "                j = 1\n",
    "            else:\n",
    "                solution_i = np.concatenate((solution_i,solution_array[:-1]))\n",
    "        Y[i,:solution_i.shape[0]] = solution_i\n",
    "        i += 1\n",
    "    return X, Y"
   ]
  },
  {
   "cell_type": "code",
   "execution_count": 2,
   "metadata": {
    "ExecuteTime": {
     "end_time": "2019-11-11T13:39:08.658197Z",
     "start_time": "2019-11-11T13:39:05.902439Z"
    }
   },
   "outputs": [
    {
     "name": "stdout",
     "output_type": "stream",
     "text": [
      "1038\n"
     ]
    }
   ],
   "source": [
    "X, Y = get_data(\"data.ptr\")"
   ]
  },
  {
   "cell_type": "code",
   "execution_count": 3,
   "metadata": {
    "ExecuteTime": {
     "end_time": "2019-11-11T13:39:08.738015Z",
     "start_time": "2019-11-11T13:39:08.708782Z"
    }
   },
   "outputs": [
    {
     "data": {
      "text/plain": [
       "(1038, 200)"
      ]
     },
     "execution_count": 3,
     "metadata": {},
     "output_type": "execute_result"
    }
   ],
   "source": [
    "Y.shape"
   ]
  },
  {
   "cell_type": "code",
   "execution_count": 4,
   "metadata": {
    "ExecuteTime": {
     "end_time": "2019-11-11T13:40:05.265189Z",
     "start_time": "2019-11-11T13:40:05.257526Z"
    }
   },
   "outputs": [
    {
     "data": {
      "text/plain": [
       "(1038, 200, 60)"
      ]
     },
     "execution_count": 4,
     "metadata": {},
     "output_type": "execute_result"
    }
   ],
   "source": [
    "X.shape"
   ]
  },
  {
   "cell_type": "code",
   "execution_count": 5,
   "metadata": {
    "ExecuteTime": {
     "end_time": "2019-11-11T13:40:06.007977Z",
     "start_time": "2019-11-11T13:40:06.001316Z"
    }
   },
   "outputs": [
    {
     "data": {
      "text/plain": [
       "array([[ 56,  57,  81, ..., 201, 201, 201],\n",
       "       [ 48,  30,  70, ..., 201, 201, 201],\n",
       "       [100,  24,   3, ..., 201, 201, 201],\n",
       "       ...,\n",
       "       [ 64, 151, 157, ...,  82, 109, 106],\n",
       "       [167,  37, 102, ..., 111, 169, 121],\n",
       "       [114, 100, 117, ...,  67, 146, 120]])"
      ]
     },
     "execution_count": 5,
     "metadata": {},
     "output_type": "execute_result"
    }
   ],
   "source": [
    "Y"
   ]
  },
  {
   "cell_type": "code",
   "execution_count": 6,
   "metadata": {
    "ExecuteTime": {
     "end_time": "2019-11-11T13:40:10.562382Z",
     "start_time": "2019-11-11T13:40:10.546774Z"
    }
   },
   "outputs": [
    {
     "data": {
      "text/plain": [
       "201"
      ]
     },
     "execution_count": 6,
     "metadata": {},
     "output_type": "execute_result"
    }
   ],
   "source": [
    "len(np.unique(Y))"
   ]
  },
  {
   "cell_type": "code",
   "execution_count": 7,
   "metadata": {
    "ExecuteTime": {
     "end_time": "2019-11-11T13:40:11.009447Z",
     "start_time": "2019-11-11T13:40:11.001885Z"
    }
   },
   "outputs": [
    {
     "data": {
      "text/plain": [
       "array([21.  , 67.  ,  1.  ,  3.  , 66.  , 75.  , 25.  , 57.  , 74.  ,\n",
       "       90.  ,  0.  ,  0.  ,  0.  ,  0.  ,  0.  ,  0.  ,  0.  ,  0.  ,\n",
       "        0.  ,  0.  ,  0.  ,  0.  ,  0.  ,  0.  ,  0.  ,  0.  ,  0.  ,\n",
       "        0.  ,  0.  ,  0.  , 73.47, 73.99, 72.07, 72.19, 71.85, 71.38,\n",
       "       71.29, 73.07, 74.3 , 73.24,  0.  ,  0.  ,  0.  ,  0.  ,  0.  ,\n",
       "        0.  ,  0.  ,  0.  ,  0.  ,  0.  ,  0.  ,  0.  ,  0.  ,  0.  ,\n",
       "        0.  ,  0.  ,  0.  ,  0.  ,  0.  ,  0.  ])"
      ]
     },
     "execution_count": 7,
     "metadata": {},
     "output_type": "execute_result"
    }
   ],
   "source": [
    "X[10,0]"
   ]
  },
  {
   "cell_type": "code",
   "execution_count": 18,
   "metadata": {
    "ExecuteTime": {
     "end_time": "2019-11-09T10:31:38.015162Z",
     "start_time": "2019-11-09T10:31:37.999388Z"
    }
   },
   "outputs": [],
   "source": [
    "Y[0,]"
   ]
  },
  {
   "cell_type": "code",
   "execution_count": 34,
   "metadata": {},
   "outputs": [
    {
     "name": "stdout",
     "output_type": "stream",
     "text": [
      "[ 29.     11.     39.     39.     67.     96.     13.      2.     53.\n",
      "  40.     17.     61.     87.     45.     83.     63.     54.     95.\n",
      "  54.     26.      0.      0.      0.      0.      0.      0.      0.\n",
      "   0.      0.      0.    111.445 110.43  110.71  110.685 110.74  109.285\n",
      " 110.285 110.555 110.565 109.915 110.945 110.245 110.86  111.075 110.72\n",
      " 109.94  110.635 110.555 110.44  111.005   0.      0.      0.      0.\n",
      "   0.      0.      0.      0.      0.      0.   ]\n"
     ]
    }
   ],
   "source": [
    "print(X[570,0])"
   ]
  },
  {
   "cell_type": "code",
   "execution_count": 11,
   "metadata": {},
   "outputs": [
    {
     "ename": "NameError",
     "evalue": "name 'to_categorical' is not defined",
     "output_type": "error",
     "traceback": [
      "\u001b[0;31m---------------------------------------------------------------------------\u001b[0m",
      "\u001b[0;31mNameError\u001b[0m                                 Traceback (most recent call last)",
      "\u001b[0;32m<ipython-input-11-e000615188b5>\u001b[0m in \u001b[0;36m<module>\u001b[0;34m\u001b[0m\n\u001b[1;32m      3\u001b[0m \u001b[0mYY\u001b[0m \u001b[0;34m=\u001b[0m \u001b[0;34m[\u001b[0m\u001b[0;34m]\u001b[0m\u001b[0;34m\u001b[0m\u001b[0;34m\u001b[0m\u001b[0m\n\u001b[1;32m      4\u001b[0m \u001b[0;32mfor\u001b[0m \u001b[0my_\u001b[0m \u001b[0;32min\u001b[0m \u001b[0my\u001b[0m\u001b[0;34m:\u001b[0m\u001b[0;34m\u001b[0m\u001b[0;34m\u001b[0m\u001b[0m\n\u001b[0;32m----> 5\u001b[0;31m     \u001b[0mYY\u001b[0m\u001b[0;34m.\u001b[0m\u001b[0mappend\u001b[0m\u001b[0;34m(\u001b[0m\u001b[0mto_categorical\u001b[0m\u001b[0;34m(\u001b[0m\u001b[0my_\u001b[0m\u001b[0;34m)\u001b[0m\u001b[0;34m)\u001b[0m\u001b[0;34m\u001b[0m\u001b[0;34m\u001b[0m\u001b[0m\n\u001b[0m\u001b[1;32m      6\u001b[0m \u001b[0mYY\u001b[0m \u001b[0;34m=\u001b[0m \u001b[0mnp\u001b[0m\u001b[0;34m.\u001b[0m\u001b[0masarray\u001b[0m\u001b[0;34m(\u001b[0m\u001b[0mYY\u001b[0m\u001b[0;34m)\u001b[0m\u001b[0;34m\u001b[0m\u001b[0;34m\u001b[0m\u001b[0m\n",
      "\u001b[0;31mNameError\u001b[0m: name 'to_categorical' is not defined"
     ]
    }
   ],
   "source": [
    "y = y-1\n",
    "\n",
    "YY = []\n",
    "for y_ in y:\n",
    "    YY.append(to_categorical(y_))\n",
    "YY = np.asarray(YY)"
   ]
  },
  {
   "cell_type": "code",
   "execution_count": null,
   "metadata": {},
   "outputs": [],
   "source": []
  }
 ],
 "metadata": {
  "kernelspec": {
   "display_name": "Python 3",
   "language": "python",
   "name": "python3"
  },
  "language_info": {
   "codemirror_mode": {
    "name": "ipython",
    "version": 3
   },
   "file_extension": ".py",
   "mimetype": "text/x-python",
   "name": "python",
   "nbconvert_exporter": "python",
   "pygments_lexer": "ipython3",
   "version": "3.7.2"
  },
  "varInspector": {
   "cols": {
    "lenName": 16,
    "lenType": 16,
    "lenVar": 40
   },
   "kernels_config": {
    "python": {
     "delete_cmd_postfix": "",
     "delete_cmd_prefix": "del ",
     "library": "var_list.py",
     "varRefreshCmd": "print(var_dic_list())"
    },
    "r": {
     "delete_cmd_postfix": ") ",
     "delete_cmd_prefix": "rm(",
     "library": "var_list.r",
     "varRefreshCmd": "cat(var_dic_list()) "
    }
   },
   "types_to_exclude": [
    "module",
    "function",
    "builtin_function_or_method",
    "instance",
    "_Feature"
   ],
   "window_display": false
  }
 },
 "nbformat": 4,
 "nbformat_minor": 2
}
